{
  "nbformat": 4,
  "nbformat_minor": 0,
  "metadata": {
    "colab": {
      "name": "Bitcoin_clean.ipynb",
      "version": "0.3.2",
      "provenance": [],
      "collapsed_sections": [],
      "include_colab_link": true
    },
    "kernelspec": {
      "name": "python3",
      "display_name": "Python 3"
    }
  },
  "cells": [
    {
      "cell_type": "markdown",
      "metadata": {
        "id": "view-in-github",
        "colab_type": "text"
      },
      "source": [
        "<a href=\"https://colab.research.google.com/github/achirde/machine_learning/blob/master/Bitcoin_clean.ipynb\" target=\"_parent\"><img src=\"https://colab.research.google.com/assets/colab-badge.svg\" alt=\"Open In Colab\"/></a>"
      ]
    },
    {
      "cell_type": "code",
      "metadata": {
        "id": "4ClUnEVgNPX1",
        "colab_type": "code",
        "colab": {}
      },
      "source": [
        "import pandas as pd\n",
        "import numpy  as np\n",
        "\n",
        "from sklearn.ensemble      import GradientBoostingRegressor\n",
        "from sklearn.linear_model  import LinearRegression\n",
        "from sklearn.preprocessing import StandardScaler"
      ],
      "execution_count": 0,
      "outputs": []
    },
    {
      "cell_type": "markdown",
      "metadata": {
        "id": "Y9pUdYN3VCYr",
        "colab_type": "text"
      },
      "source": [
        "**Configuration**<br>\n",
        "Tune the regressor's parameter here. <br>\n",
        "\n",
        "We set our file names also here."
      ]
    },
    {
      "cell_type": "code",
      "metadata": {
        "id": "E6glpUZi49v6",
        "colab_type": "code",
        "colab": {}
      },
      "source": [
        "# GB Parameters\n",
        "LOSS = 'huber'\n",
        "CRITERION = 'friedman_mse'\n",
        "MAX_DEPTH = 32\n",
        "\n",
        "# Configure Data Options\n",
        "ENABLE_TWEET = True\n",
        "\n",
        "# File Names\n",
        "SUB_FILE_NAME          = 'SUBMISSION_GB_HUBER_FMSE_32.csv'\n",
        "TRAIN_TIMESERIES       = 'train_timeseries2.csv'\n",
        "CLEAN_TWEET_TRAIN_FILE = 'clean_tw_data_train_2.csv'\n",
        "ACTUAL_DATA_FILE       = 'sample_submission_2_actual_values.csv'\n",
        "TEST_TIMESERIES        = 'test_timeseries2.csv'\n",
        "CLEAN_TWEET_DATA_TEST  = 'clean_tw_data_test.csv'"
      ],
      "execution_count": 0,
      "outputs": []
    },
    {
      "cell_type": "markdown",
      "metadata": {
        "id": "5S7BcgNIp2SC",
        "colab_type": "text"
      },
      "source": [
        "**Gradient Boost**\n",
        "Loss = huber ; Criteria = FMSE, Max Depth = 32 ; Columns = Selected\n",
        "=> 0.9346"
      ]
    },
    {
      "cell_type": "code",
      "metadata": {
        "id": "PLTPDQG5NleW",
        "colab_type": "code",
        "colab": {}
      },
      "source": [
        "columns = ['close',          \n",
        "           'cost_per_transaction',\n",
        "           'est_transaction_volume_USD',\n",
        "           'est_transaction_volume',\n",
        "           'cost_per_transaction_percent' ,\n",
        "           'transaction_fees',\n",
        "           'n_transactions_per_block',\n",
        "           'utxo_count_max' ,\n",
        "           'utxo_count_min' ,\n",
        "           'mempool_size_max'\n",
        "            ]\n",
        "\n",
        "columns = list(set(columns))  #This is just to ensure we have unique column names and no duplicates entered by mistake"
      ],
      "execution_count": 0,
      "outputs": []
    },
    {
      "cell_type": "code",
      "metadata": {
        "id": "hcD6e9k23Svk",
        "colab_type": "code",
        "colab": {
          "base_uri": "https://localhost:8080/",
          "height": 340
        },
        "outputId": "01f9f155-3f37-4902-d33f-00bb7891f4b1"
      },
      "source": [
        "# Read Time Series Data\n",
        "data = pd.read_csv(TRAIN_TIMESERIES, index_col=0)\n",
        "data = data[columns]\n",
        "data.head()"
      ],
      "execution_count": 87,
      "outputs": [
        {
          "output_type": "execute_result",
          "data": {
            "text/html": [
              "<div>\n",
              "<style scoped>\n",
              "    .dataframe tbody tr th:only-of-type {\n",
              "        vertical-align: middle;\n",
              "    }\n",
              "\n",
              "    .dataframe tbody tr th {\n",
              "        vertical-align: top;\n",
              "    }\n",
              "\n",
              "    .dataframe thead th {\n",
              "        text-align: right;\n",
              "    }\n",
              "</style>\n",
              "<table border=\"1\" class=\"dataframe\">\n",
              "  <thead>\n",
              "    <tr style=\"text-align: right;\">\n",
              "      <th></th>\n",
              "      <th>est_transaction_volume_USD</th>\n",
              "      <th>cost_per_transaction_percent</th>\n",
              "      <th>mempool_size_max</th>\n",
              "      <th>est_transaction_volume</th>\n",
              "      <th>n_transactions_per_block</th>\n",
              "      <th>utxo_count_max</th>\n",
              "      <th>transaction_fees</th>\n",
              "      <th>close</th>\n",
              "      <th>cost_per_transaction</th>\n",
              "      <th>utxo_count_min</th>\n",
              "    </tr>\n",
              "    <tr>\n",
              "      <th>date</th>\n",
              "      <th></th>\n",
              "      <th></th>\n",
              "      <th></th>\n",
              "      <th></th>\n",
              "      <th></th>\n",
              "      <th></th>\n",
              "      <th></th>\n",
              "      <th></th>\n",
              "      <th></th>\n",
              "      <th></th>\n",
              "    </tr>\n",
              "  </thead>\n",
              "  <tbody>\n",
              "    <tr>\n",
              "      <th>2016-04-24</th>\n",
              "      <td>110486293.2</td>\n",
              "      <td>1.385967</td>\n",
              "      <td>5165259.0</td>\n",
              "      <td>240501.2912</td>\n",
              "      <td>1387.537879</td>\n",
              "      <td>36825214</td>\n",
              "      <td>33.268655</td>\n",
              "      <td>458.55</td>\n",
              "      <td>8.360698</td>\n",
              "      <td>36724621</td>\n",
              "    </tr>\n",
              "    <tr>\n",
              "      <th>2016-04-25</th>\n",
              "      <td>168025613.1</td>\n",
              "      <td>0.888460</td>\n",
              "      <td>8371544.0</td>\n",
              "      <td>362233.4608</td>\n",
              "      <td>1713.102362</td>\n",
              "      <td>36893715</td>\n",
              "      <td>43.298470</td>\n",
              "      <td>461.43</td>\n",
              "      <td>6.861613</td>\n",
              "      <td>36825828</td>\n",
              "    </tr>\n",
              "    <tr>\n",
              "      <th>2016-04-26</th>\n",
              "      <td>170332016.5</td>\n",
              "      <td>1.129962</td>\n",
              "      <td>9632225.0</td>\n",
              "      <td>363972.8546</td>\n",
              "      <td>1660.556291</td>\n",
              "      <td>36980350</td>\n",
              "      <td>337.756398</td>\n",
              "      <td>466.09</td>\n",
              "      <td>7.675906</td>\n",
              "      <td>36895435</td>\n",
              "    </tr>\n",
              "    <tr>\n",
              "      <th>2016-04-27</th>\n",
              "      <td>167458968.2</td>\n",
              "      <td>0.873767</td>\n",
              "      <td>11592705.0</td>\n",
              "      <td>374368.9346</td>\n",
              "      <td>1856.085271</td>\n",
              "      <td>37044068</td>\n",
              "      <td>46.111500</td>\n",
              "      <td>444.69</td>\n",
              "      <td>6.111057</td>\n",
              "      <td>36983148</td>\n",
              "    </tr>\n",
              "    <tr>\n",
              "      <th>2016-04-28</th>\n",
              "      <td>171720826.0</td>\n",
              "      <td>0.904082</td>\n",
              "      <td>12091996.0</td>\n",
              "      <td>381601.8356</td>\n",
              "      <td>1836.725926</td>\n",
              "      <td>37106607</td>\n",
              "      <td>49.620345</td>\n",
              "      <td>449.01</td>\n",
              "      <td>6.261128</td>\n",
              "      <td>37046272</td>\n",
              "    </tr>\n",
              "  </tbody>\n",
              "</table>\n",
              "</div>"
            ],
            "text/plain": [
              "            est_transaction_volume_USD  cost_per_transaction_percent  \\\n",
              "date                                                                   \n",
              "2016-04-24                 110486293.2                      1.385967   \n",
              "2016-04-25                 168025613.1                      0.888460   \n",
              "2016-04-26                 170332016.5                      1.129962   \n",
              "2016-04-27                 167458968.2                      0.873767   \n",
              "2016-04-28                 171720826.0                      0.904082   \n",
              "\n",
              "            mempool_size_max  est_transaction_volume  \\\n",
              "date                                                   \n",
              "2016-04-24         5165259.0             240501.2912   \n",
              "2016-04-25         8371544.0             362233.4608   \n",
              "2016-04-26         9632225.0             363972.8546   \n",
              "2016-04-27        11592705.0             374368.9346   \n",
              "2016-04-28        12091996.0             381601.8356   \n",
              "\n",
              "            n_transactions_per_block  utxo_count_max  transaction_fees  \\\n",
              "date                                                                     \n",
              "2016-04-24               1387.537879        36825214         33.268655   \n",
              "2016-04-25               1713.102362        36893715         43.298470   \n",
              "2016-04-26               1660.556291        36980350        337.756398   \n",
              "2016-04-27               1856.085271        37044068         46.111500   \n",
              "2016-04-28               1836.725926        37106607         49.620345   \n",
              "\n",
              "             close  cost_per_transaction  utxo_count_min  \n",
              "date                                                      \n",
              "2016-04-24  458.55              8.360698        36724621  \n",
              "2016-04-25  461.43              6.861613        36825828  \n",
              "2016-04-26  466.09              7.675906        36895435  \n",
              "2016-04-27  444.69              6.111057        36983148  \n",
              "2016-04-28  449.01              6.261128        37046272  "
            ]
          },
          "metadata": {
            "tags": []
          },
          "execution_count": 87
        }
      ]
    },
    {
      "cell_type": "code",
      "metadata": {
        "id": "4PAWZVS2trRL",
        "colab_type": "code",
        "outputId": "9ff05976-03a0-4727-ecb1-c0028772a795",
        "colab": {
          "base_uri": "https://localhost:8080/",
          "height": 235
        }
      },
      "source": [
        "# Read Tweet Data (from clean file)\n",
        "data_tweets = pd.read_csv(CLEAN_TWEET_TRAIN_FILE)\n",
        "data_tweets.drop(data_tweets.columns[0], axis=1, inplace=True)\n",
        "\n",
        "# Remove Account and Favorite Count columns\n",
        "data_tweets.drop(['account'], axis=1, inplace=True)\n",
        "data_tweets.drop(['favorite_count'], axis=1, inplace=True)\n",
        "\n",
        "\n",
        "data_tweets.set_index(['date'], inplace=True)\n",
        "data_tweets.head()"
      ],
      "execution_count": 88,
      "outputs": [
        {
          "output_type": "execute_result",
          "data": {
            "text/html": [
              "<div>\n",
              "<style scoped>\n",
              "    .dataframe tbody tr th:only-of-type {\n",
              "        vertical-align: middle;\n",
              "    }\n",
              "\n",
              "    .dataframe tbody tr th {\n",
              "        vertical-align: top;\n",
              "    }\n",
              "\n",
              "    .dataframe thead th {\n",
              "        text-align: right;\n",
              "    }\n",
              "</style>\n",
              "<table border=\"1\" class=\"dataframe\">\n",
              "  <thead>\n",
              "    <tr style=\"text-align: right;\">\n",
              "      <th></th>\n",
              "      <th>retweet_count</th>\n",
              "      <th>follower_count</th>\n",
              "      <th>pol</th>\n",
              "      <th>sub</th>\n",
              "    </tr>\n",
              "    <tr>\n",
              "      <th>date</th>\n",
              "      <th></th>\n",
              "      <th></th>\n",
              "      <th></th>\n",
              "      <th></th>\n",
              "    </tr>\n",
              "  </thead>\n",
              "  <tbody>\n",
              "    <tr>\n",
              "      <th>2016-04-24</th>\n",
              "      <td>111.0</td>\n",
              "      <td>36499.0</td>\n",
              "      <td>0.133333</td>\n",
              "      <td>0.133333</td>\n",
              "    </tr>\n",
              "    <tr>\n",
              "      <th>2016-04-24</th>\n",
              "      <td>91.0</td>\n",
              "      <td>36499.0</td>\n",
              "      <td>0.500000</td>\n",
              "      <td>0.500000</td>\n",
              "    </tr>\n",
              "    <tr>\n",
              "      <th>2016-04-24</th>\n",
              "      <td>54.0</td>\n",
              "      <td>36499.0</td>\n",
              "      <td>1.000000</td>\n",
              "      <td>1.000000</td>\n",
              "    </tr>\n",
              "    <tr>\n",
              "      <th>2016-04-24</th>\n",
              "      <td>0.0</td>\n",
              "      <td>18633.0</td>\n",
              "      <td>0.300000</td>\n",
              "      <td>0.300000</td>\n",
              "    </tr>\n",
              "    <tr>\n",
              "      <th>2016-04-24</th>\n",
              "      <td>0.0</td>\n",
              "      <td>18633.0</td>\n",
              "      <td>0.000000</td>\n",
              "      <td>0.000000</td>\n",
              "    </tr>\n",
              "  </tbody>\n",
              "</table>\n",
              "</div>"
            ],
            "text/plain": [
              "            retweet_count  follower_count       pol       sub\n",
              "date                                                         \n",
              "2016-04-24          111.0         36499.0  0.133333  0.133333\n",
              "2016-04-24           91.0         36499.0  0.500000  0.500000\n",
              "2016-04-24           54.0         36499.0  1.000000  1.000000\n",
              "2016-04-24            0.0         18633.0  0.300000  0.300000\n",
              "2016-04-24            0.0         18633.0  0.000000  0.000000"
            ]
          },
          "metadata": {
            "tags": []
          },
          "execution_count": 88
        }
      ]
    },
    {
      "cell_type": "code",
      "metadata": {
        "id": "71ZiCZ55qpsM",
        "colab_type": "code",
        "outputId": "6fb80631-1b0e-4fc4-c9ef-e25bcf9ee2c3",
        "colab": {
          "base_uri": "https://localhost:8080/",
          "height": 340
        }
      },
      "source": [
        "data_close = data[columns]\n",
        "data_w_tweets = data_tweets.merge(data_close, left_index=True, right_index=True)\n",
        "data_w_tweets.head()"
      ],
      "execution_count": 89,
      "outputs": [
        {
          "output_type": "execute_result",
          "data": {
            "text/html": [
              "<div>\n",
              "<style scoped>\n",
              "    .dataframe tbody tr th:only-of-type {\n",
              "        vertical-align: middle;\n",
              "    }\n",
              "\n",
              "    .dataframe tbody tr th {\n",
              "        vertical-align: top;\n",
              "    }\n",
              "\n",
              "    .dataframe thead th {\n",
              "        text-align: right;\n",
              "    }\n",
              "</style>\n",
              "<table border=\"1\" class=\"dataframe\">\n",
              "  <thead>\n",
              "    <tr style=\"text-align: right;\">\n",
              "      <th></th>\n",
              "      <th>retweet_count</th>\n",
              "      <th>follower_count</th>\n",
              "      <th>pol</th>\n",
              "      <th>sub</th>\n",
              "      <th>est_transaction_volume_USD</th>\n",
              "      <th>cost_per_transaction_percent</th>\n",
              "      <th>mempool_size_max</th>\n",
              "      <th>est_transaction_volume</th>\n",
              "      <th>n_transactions_per_block</th>\n",
              "      <th>utxo_count_max</th>\n",
              "      <th>transaction_fees</th>\n",
              "      <th>close</th>\n",
              "      <th>cost_per_transaction</th>\n",
              "      <th>utxo_count_min</th>\n",
              "    </tr>\n",
              "    <tr>\n",
              "      <th>date</th>\n",
              "      <th></th>\n",
              "      <th></th>\n",
              "      <th></th>\n",
              "      <th></th>\n",
              "      <th></th>\n",
              "      <th></th>\n",
              "      <th></th>\n",
              "      <th></th>\n",
              "      <th></th>\n",
              "      <th></th>\n",
              "      <th></th>\n",
              "      <th></th>\n",
              "      <th></th>\n",
              "      <th></th>\n",
              "    </tr>\n",
              "  </thead>\n",
              "  <tbody>\n",
              "    <tr>\n",
              "      <th>2016-04-24</th>\n",
              "      <td>111.0</td>\n",
              "      <td>36499.0</td>\n",
              "      <td>0.133333</td>\n",
              "      <td>0.133333</td>\n",
              "      <td>110486293.2</td>\n",
              "      <td>1.385967</td>\n",
              "      <td>5165259.0</td>\n",
              "      <td>240501.2912</td>\n",
              "      <td>1387.537879</td>\n",
              "      <td>36825214</td>\n",
              "      <td>33.268655</td>\n",
              "      <td>458.55</td>\n",
              "      <td>8.360698</td>\n",
              "      <td>36724621</td>\n",
              "    </tr>\n",
              "    <tr>\n",
              "      <th>2016-04-24</th>\n",
              "      <td>91.0</td>\n",
              "      <td>36499.0</td>\n",
              "      <td>0.500000</td>\n",
              "      <td>0.500000</td>\n",
              "      <td>110486293.2</td>\n",
              "      <td>1.385967</td>\n",
              "      <td>5165259.0</td>\n",
              "      <td>240501.2912</td>\n",
              "      <td>1387.537879</td>\n",
              "      <td>36825214</td>\n",
              "      <td>33.268655</td>\n",
              "      <td>458.55</td>\n",
              "      <td>8.360698</td>\n",
              "      <td>36724621</td>\n",
              "    </tr>\n",
              "    <tr>\n",
              "      <th>2016-04-24</th>\n",
              "      <td>54.0</td>\n",
              "      <td>36499.0</td>\n",
              "      <td>1.000000</td>\n",
              "      <td>1.000000</td>\n",
              "      <td>110486293.2</td>\n",
              "      <td>1.385967</td>\n",
              "      <td>5165259.0</td>\n",
              "      <td>240501.2912</td>\n",
              "      <td>1387.537879</td>\n",
              "      <td>36825214</td>\n",
              "      <td>33.268655</td>\n",
              "      <td>458.55</td>\n",
              "      <td>8.360698</td>\n",
              "      <td>36724621</td>\n",
              "    </tr>\n",
              "    <tr>\n",
              "      <th>2016-04-24</th>\n",
              "      <td>0.0</td>\n",
              "      <td>18633.0</td>\n",
              "      <td>0.300000</td>\n",
              "      <td>0.300000</td>\n",
              "      <td>110486293.2</td>\n",
              "      <td>1.385967</td>\n",
              "      <td>5165259.0</td>\n",
              "      <td>240501.2912</td>\n",
              "      <td>1387.537879</td>\n",
              "      <td>36825214</td>\n",
              "      <td>33.268655</td>\n",
              "      <td>458.55</td>\n",
              "      <td>8.360698</td>\n",
              "      <td>36724621</td>\n",
              "    </tr>\n",
              "    <tr>\n",
              "      <th>2016-04-24</th>\n",
              "      <td>0.0</td>\n",
              "      <td>18633.0</td>\n",
              "      <td>0.000000</td>\n",
              "      <td>0.000000</td>\n",
              "      <td>110486293.2</td>\n",
              "      <td>1.385967</td>\n",
              "      <td>5165259.0</td>\n",
              "      <td>240501.2912</td>\n",
              "      <td>1387.537879</td>\n",
              "      <td>36825214</td>\n",
              "      <td>33.268655</td>\n",
              "      <td>458.55</td>\n",
              "      <td>8.360698</td>\n",
              "      <td>36724621</td>\n",
              "    </tr>\n",
              "  </tbody>\n",
              "</table>\n",
              "</div>"
            ],
            "text/plain": [
              "            retweet_count  follower_count       pol       sub  \\\n",
              "date                                                            \n",
              "2016-04-24          111.0         36499.0  0.133333  0.133333   \n",
              "2016-04-24           91.0         36499.0  0.500000  0.500000   \n",
              "2016-04-24           54.0         36499.0  1.000000  1.000000   \n",
              "2016-04-24            0.0         18633.0  0.300000  0.300000   \n",
              "2016-04-24            0.0         18633.0  0.000000  0.000000   \n",
              "\n",
              "            est_transaction_volume_USD  cost_per_transaction_percent  \\\n",
              "date                                                                   \n",
              "2016-04-24                 110486293.2                      1.385967   \n",
              "2016-04-24                 110486293.2                      1.385967   \n",
              "2016-04-24                 110486293.2                      1.385967   \n",
              "2016-04-24                 110486293.2                      1.385967   \n",
              "2016-04-24                 110486293.2                      1.385967   \n",
              "\n",
              "            mempool_size_max  est_transaction_volume  \\\n",
              "date                                                   \n",
              "2016-04-24         5165259.0             240501.2912   \n",
              "2016-04-24         5165259.0             240501.2912   \n",
              "2016-04-24         5165259.0             240501.2912   \n",
              "2016-04-24         5165259.0             240501.2912   \n",
              "2016-04-24         5165259.0             240501.2912   \n",
              "\n",
              "            n_transactions_per_block  utxo_count_max  transaction_fees  \\\n",
              "date                                                                     \n",
              "2016-04-24               1387.537879        36825214         33.268655   \n",
              "2016-04-24               1387.537879        36825214         33.268655   \n",
              "2016-04-24               1387.537879        36825214         33.268655   \n",
              "2016-04-24               1387.537879        36825214         33.268655   \n",
              "2016-04-24               1387.537879        36825214         33.268655   \n",
              "\n",
              "             close  cost_per_transaction  utxo_count_min  \n",
              "date                                                      \n",
              "2016-04-24  458.55              8.360698        36724621  \n",
              "2016-04-24  458.55              8.360698        36724621  \n",
              "2016-04-24  458.55              8.360698        36724621  \n",
              "2016-04-24  458.55              8.360698        36724621  \n",
              "2016-04-24  458.55              8.360698        36724621  "
            ]
          },
          "metadata": {
            "tags": []
          },
          "execution_count": 89
        }
      ]
    },
    {
      "cell_type": "code",
      "metadata": {
        "id": "nzX6hHrGeaLL",
        "colab_type": "code",
        "outputId": "e2dbc2b3-9250-4637-968f-0fdce37857f2",
        "colab": {
          "base_uri": "https://localhost:8080/",
          "height": 340
        }
      },
      "source": [
        "if ENABLE_TWEET:\n",
        "  data = data_w_tweets\n",
        "  \n",
        "data.head()"
      ],
      "execution_count": 90,
      "outputs": [
        {
          "output_type": "execute_result",
          "data": {
            "text/html": [
              "<div>\n",
              "<style scoped>\n",
              "    .dataframe tbody tr th:only-of-type {\n",
              "        vertical-align: middle;\n",
              "    }\n",
              "\n",
              "    .dataframe tbody tr th {\n",
              "        vertical-align: top;\n",
              "    }\n",
              "\n",
              "    .dataframe thead th {\n",
              "        text-align: right;\n",
              "    }\n",
              "</style>\n",
              "<table border=\"1\" class=\"dataframe\">\n",
              "  <thead>\n",
              "    <tr style=\"text-align: right;\">\n",
              "      <th></th>\n",
              "      <th>retweet_count</th>\n",
              "      <th>follower_count</th>\n",
              "      <th>pol</th>\n",
              "      <th>sub</th>\n",
              "      <th>est_transaction_volume_USD</th>\n",
              "      <th>cost_per_transaction_percent</th>\n",
              "      <th>mempool_size_max</th>\n",
              "      <th>est_transaction_volume</th>\n",
              "      <th>n_transactions_per_block</th>\n",
              "      <th>utxo_count_max</th>\n",
              "      <th>transaction_fees</th>\n",
              "      <th>close</th>\n",
              "      <th>cost_per_transaction</th>\n",
              "      <th>utxo_count_min</th>\n",
              "    </tr>\n",
              "    <tr>\n",
              "      <th>date</th>\n",
              "      <th></th>\n",
              "      <th></th>\n",
              "      <th></th>\n",
              "      <th></th>\n",
              "      <th></th>\n",
              "      <th></th>\n",
              "      <th></th>\n",
              "      <th></th>\n",
              "      <th></th>\n",
              "      <th></th>\n",
              "      <th></th>\n",
              "      <th></th>\n",
              "      <th></th>\n",
              "      <th></th>\n",
              "    </tr>\n",
              "  </thead>\n",
              "  <tbody>\n",
              "    <tr>\n",
              "      <th>2016-04-24</th>\n",
              "      <td>111.0</td>\n",
              "      <td>36499.0</td>\n",
              "      <td>0.133333</td>\n",
              "      <td>0.133333</td>\n",
              "      <td>110486293.2</td>\n",
              "      <td>1.385967</td>\n",
              "      <td>5165259.0</td>\n",
              "      <td>240501.2912</td>\n",
              "      <td>1387.537879</td>\n",
              "      <td>36825214</td>\n",
              "      <td>33.268655</td>\n",
              "      <td>458.55</td>\n",
              "      <td>8.360698</td>\n",
              "      <td>36724621</td>\n",
              "    </tr>\n",
              "    <tr>\n",
              "      <th>2016-04-24</th>\n",
              "      <td>91.0</td>\n",
              "      <td>36499.0</td>\n",
              "      <td>0.500000</td>\n",
              "      <td>0.500000</td>\n",
              "      <td>110486293.2</td>\n",
              "      <td>1.385967</td>\n",
              "      <td>5165259.0</td>\n",
              "      <td>240501.2912</td>\n",
              "      <td>1387.537879</td>\n",
              "      <td>36825214</td>\n",
              "      <td>33.268655</td>\n",
              "      <td>458.55</td>\n",
              "      <td>8.360698</td>\n",
              "      <td>36724621</td>\n",
              "    </tr>\n",
              "    <tr>\n",
              "      <th>2016-04-24</th>\n",
              "      <td>54.0</td>\n",
              "      <td>36499.0</td>\n",
              "      <td>1.000000</td>\n",
              "      <td>1.000000</td>\n",
              "      <td>110486293.2</td>\n",
              "      <td>1.385967</td>\n",
              "      <td>5165259.0</td>\n",
              "      <td>240501.2912</td>\n",
              "      <td>1387.537879</td>\n",
              "      <td>36825214</td>\n",
              "      <td>33.268655</td>\n",
              "      <td>458.55</td>\n",
              "      <td>8.360698</td>\n",
              "      <td>36724621</td>\n",
              "    </tr>\n",
              "    <tr>\n",
              "      <th>2016-04-24</th>\n",
              "      <td>0.0</td>\n",
              "      <td>18633.0</td>\n",
              "      <td>0.300000</td>\n",
              "      <td>0.300000</td>\n",
              "      <td>110486293.2</td>\n",
              "      <td>1.385967</td>\n",
              "      <td>5165259.0</td>\n",
              "      <td>240501.2912</td>\n",
              "      <td>1387.537879</td>\n",
              "      <td>36825214</td>\n",
              "      <td>33.268655</td>\n",
              "      <td>458.55</td>\n",
              "      <td>8.360698</td>\n",
              "      <td>36724621</td>\n",
              "    </tr>\n",
              "    <tr>\n",
              "      <th>2016-04-24</th>\n",
              "      <td>0.0</td>\n",
              "      <td>18633.0</td>\n",
              "      <td>0.000000</td>\n",
              "      <td>0.000000</td>\n",
              "      <td>110486293.2</td>\n",
              "      <td>1.385967</td>\n",
              "      <td>5165259.0</td>\n",
              "      <td>240501.2912</td>\n",
              "      <td>1387.537879</td>\n",
              "      <td>36825214</td>\n",
              "      <td>33.268655</td>\n",
              "      <td>458.55</td>\n",
              "      <td>8.360698</td>\n",
              "      <td>36724621</td>\n",
              "    </tr>\n",
              "  </tbody>\n",
              "</table>\n",
              "</div>"
            ],
            "text/plain": [
              "            retweet_count  follower_count       pol       sub  \\\n",
              "date                                                            \n",
              "2016-04-24          111.0         36499.0  0.133333  0.133333   \n",
              "2016-04-24           91.0         36499.0  0.500000  0.500000   \n",
              "2016-04-24           54.0         36499.0  1.000000  1.000000   \n",
              "2016-04-24            0.0         18633.0  0.300000  0.300000   \n",
              "2016-04-24            0.0         18633.0  0.000000  0.000000   \n",
              "\n",
              "            est_transaction_volume_USD  cost_per_transaction_percent  \\\n",
              "date                                                                   \n",
              "2016-04-24                 110486293.2                      1.385967   \n",
              "2016-04-24                 110486293.2                      1.385967   \n",
              "2016-04-24                 110486293.2                      1.385967   \n",
              "2016-04-24                 110486293.2                      1.385967   \n",
              "2016-04-24                 110486293.2                      1.385967   \n",
              "\n",
              "            mempool_size_max  est_transaction_volume  \\\n",
              "date                                                   \n",
              "2016-04-24         5165259.0             240501.2912   \n",
              "2016-04-24         5165259.0             240501.2912   \n",
              "2016-04-24         5165259.0             240501.2912   \n",
              "2016-04-24         5165259.0             240501.2912   \n",
              "2016-04-24         5165259.0             240501.2912   \n",
              "\n",
              "            n_transactions_per_block  utxo_count_max  transaction_fees  \\\n",
              "date                                                                     \n",
              "2016-04-24               1387.537879        36825214         33.268655   \n",
              "2016-04-24               1387.537879        36825214         33.268655   \n",
              "2016-04-24               1387.537879        36825214         33.268655   \n",
              "2016-04-24               1387.537879        36825214         33.268655   \n",
              "2016-04-24               1387.537879        36825214         33.268655   \n",
              "\n",
              "             close  cost_per_transaction  utxo_count_min  \n",
              "date                                                      \n",
              "2016-04-24  458.55              8.360698        36724621  \n",
              "2016-04-24  458.55              8.360698        36724621  \n",
              "2016-04-24  458.55              8.360698        36724621  \n",
              "2016-04-24  458.55              8.360698        36724621  \n",
              "2016-04-24  458.55              8.360698        36724621  "
            ]
          },
          "metadata": {
            "tags": []
          },
          "execution_count": 90
        }
      ]
    },
    {
      "cell_type": "code",
      "metadata": {
        "id": "QMyE8UbVi_zI",
        "colab_type": "code",
        "outputId": "e73ba9f5-976b-439d-ce51-a20f4e893fd4",
        "colab": {
          "base_uri": "https://localhost:8080/",
          "height": 34
        }
      },
      "source": [
        "len(data)"
      ],
      "execution_count": 91,
      "outputs": [
        {
          "output_type": "execute_result",
          "data": {
            "text/plain": [
              "53660"
            ]
          },
          "metadata": {
            "tags": []
          },
          "execution_count": 91
        }
      ]
    },
    {
      "cell_type": "code",
      "metadata": {
        "id": "tv5V7lGImjUp",
        "colab_type": "code",
        "outputId": "07e82dfb-4e78-4459-9cb3-4167d3c66377",
        "colab": {
          "base_uri": "https://localhost:8080/",
          "height": 196
        }
      },
      "source": [
        "data[data.isnull().any(axis=1)]"
      ],
      "execution_count": 92,
      "outputs": [
        {
          "output_type": "execute_result",
          "data": {
            "text/html": [
              "<div>\n",
              "<style scoped>\n",
              "    .dataframe tbody tr th:only-of-type {\n",
              "        vertical-align: middle;\n",
              "    }\n",
              "\n",
              "    .dataframe tbody tr th {\n",
              "        vertical-align: top;\n",
              "    }\n",
              "\n",
              "    .dataframe thead th {\n",
              "        text-align: right;\n",
              "    }\n",
              "</style>\n",
              "<table border=\"1\" class=\"dataframe\">\n",
              "  <thead>\n",
              "    <tr style=\"text-align: right;\">\n",
              "      <th></th>\n",
              "      <th>retweet_count</th>\n",
              "      <th>follower_count</th>\n",
              "      <th>pol</th>\n",
              "      <th>sub</th>\n",
              "      <th>est_transaction_volume_USD</th>\n",
              "      <th>cost_per_transaction_percent</th>\n",
              "      <th>mempool_size_max</th>\n",
              "      <th>est_transaction_volume</th>\n",
              "      <th>n_transactions_per_block</th>\n",
              "      <th>utxo_count_max</th>\n",
              "      <th>transaction_fees</th>\n",
              "      <th>close</th>\n",
              "      <th>cost_per_transaction</th>\n",
              "      <th>utxo_count_min</th>\n",
              "    </tr>\n",
              "    <tr>\n",
              "      <th>date</th>\n",
              "      <th></th>\n",
              "      <th></th>\n",
              "      <th></th>\n",
              "      <th></th>\n",
              "      <th></th>\n",
              "      <th></th>\n",
              "      <th></th>\n",
              "      <th></th>\n",
              "      <th></th>\n",
              "      <th></th>\n",
              "      <th></th>\n",
              "      <th></th>\n",
              "      <th></th>\n",
              "      <th></th>\n",
              "    </tr>\n",
              "  </thead>\n",
              "  <tbody>\n",
              "    <tr>\n",
              "      <th>2017-07-28</th>\n",
              "      <td>NaN</td>\n",
              "      <td>NaN</td>\n",
              "      <td>0.0</td>\n",
              "      <td>0.0</td>\n",
              "      <td>1.328334e+09</td>\n",
              "      <td>0.432099</td>\n",
              "      <td>10110016.0</td>\n",
              "      <td>477537.0304</td>\n",
              "      <td>1648.046667</td>\n",
              "      <td>53466489</td>\n",
              "      <td>188.431323</td>\n",
              "      <td>2809.01</td>\n",
              "      <td>23.218259</td>\n",
              "      <td>53429648</td>\n",
              "    </tr>\n",
              "    <tr>\n",
              "      <th>2017-09-08</th>\n",
              "      <td>8.0</td>\n",
              "      <td>43361.0</td>\n",
              "      <td>NaN</td>\n",
              "      <td>NaN</td>\n",
              "      <td>1.024261e+09</td>\n",
              "      <td>1.012291</td>\n",
              "      <td>16819637.5</td>\n",
              "      <td>237606.1058</td>\n",
              "      <td>1597.074286</td>\n",
              "      <td>53843463</td>\n",
              "      <td>217.765725</td>\n",
              "      <td>4228.75</td>\n",
              "      <td>37.098193</td>\n",
              "      <td>53795032</td>\n",
              "    </tr>\n",
              "  </tbody>\n",
              "</table>\n",
              "</div>"
            ],
            "text/plain": [
              "            retweet_count  follower_count  pol  sub  \\\n",
              "date                                                  \n",
              "2017-07-28            NaN             NaN  0.0  0.0   \n",
              "2017-09-08            8.0         43361.0  NaN  NaN   \n",
              "\n",
              "            est_transaction_volume_USD  cost_per_transaction_percent  \\\n",
              "date                                                                   \n",
              "2017-07-28                1.328334e+09                      0.432099   \n",
              "2017-09-08                1.024261e+09                      1.012291   \n",
              "\n",
              "            mempool_size_max  est_transaction_volume  \\\n",
              "date                                                   \n",
              "2017-07-28        10110016.0             477537.0304   \n",
              "2017-09-08        16819637.5             237606.1058   \n",
              "\n",
              "            n_transactions_per_block  utxo_count_max  transaction_fees  \\\n",
              "date                                                                     \n",
              "2017-07-28               1648.046667        53466489        188.431323   \n",
              "2017-09-08               1597.074286        53843463        217.765725   \n",
              "\n",
              "              close  cost_per_transaction  utxo_count_min  \n",
              "date                                                       \n",
              "2017-07-28  2809.01             23.218259        53429648  \n",
              "2017-09-08  4228.75             37.098193        53795032  "
            ]
          },
          "metadata": {
            "tags": []
          },
          "execution_count": 92
        }
      ]
    },
    {
      "cell_type": "code",
      "metadata": {
        "id": "id9qK4ltnbKS",
        "colab_type": "code",
        "colab": {}
      },
      "source": [
        "data = data.dropna(how='any')"
      ],
      "execution_count": 0,
      "outputs": []
    },
    {
      "cell_type": "code",
      "metadata": {
        "id": "az-r6MKmnhdU",
        "colab_type": "code",
        "outputId": "2f52f67f-f79a-42af-d315-f861760e5617",
        "colab": {
          "base_uri": "https://localhost:8080/",
          "height": 340
        }
      },
      "source": [
        "data.head()"
      ],
      "execution_count": 94,
      "outputs": [
        {
          "output_type": "execute_result",
          "data": {
            "text/html": [
              "<div>\n",
              "<style scoped>\n",
              "    .dataframe tbody tr th:only-of-type {\n",
              "        vertical-align: middle;\n",
              "    }\n",
              "\n",
              "    .dataframe tbody tr th {\n",
              "        vertical-align: top;\n",
              "    }\n",
              "\n",
              "    .dataframe thead th {\n",
              "        text-align: right;\n",
              "    }\n",
              "</style>\n",
              "<table border=\"1\" class=\"dataframe\">\n",
              "  <thead>\n",
              "    <tr style=\"text-align: right;\">\n",
              "      <th></th>\n",
              "      <th>retweet_count</th>\n",
              "      <th>follower_count</th>\n",
              "      <th>pol</th>\n",
              "      <th>sub</th>\n",
              "      <th>est_transaction_volume_USD</th>\n",
              "      <th>cost_per_transaction_percent</th>\n",
              "      <th>mempool_size_max</th>\n",
              "      <th>est_transaction_volume</th>\n",
              "      <th>n_transactions_per_block</th>\n",
              "      <th>utxo_count_max</th>\n",
              "      <th>transaction_fees</th>\n",
              "      <th>close</th>\n",
              "      <th>cost_per_transaction</th>\n",
              "      <th>utxo_count_min</th>\n",
              "    </tr>\n",
              "    <tr>\n",
              "      <th>date</th>\n",
              "      <th></th>\n",
              "      <th></th>\n",
              "      <th></th>\n",
              "      <th></th>\n",
              "      <th></th>\n",
              "      <th></th>\n",
              "      <th></th>\n",
              "      <th></th>\n",
              "      <th></th>\n",
              "      <th></th>\n",
              "      <th></th>\n",
              "      <th></th>\n",
              "      <th></th>\n",
              "      <th></th>\n",
              "    </tr>\n",
              "  </thead>\n",
              "  <tbody>\n",
              "    <tr>\n",
              "      <th>2016-04-24</th>\n",
              "      <td>111.0</td>\n",
              "      <td>36499.0</td>\n",
              "      <td>0.133333</td>\n",
              "      <td>0.133333</td>\n",
              "      <td>110486293.2</td>\n",
              "      <td>1.385967</td>\n",
              "      <td>5165259.0</td>\n",
              "      <td>240501.2912</td>\n",
              "      <td>1387.537879</td>\n",
              "      <td>36825214</td>\n",
              "      <td>33.268655</td>\n",
              "      <td>458.55</td>\n",
              "      <td>8.360698</td>\n",
              "      <td>36724621</td>\n",
              "    </tr>\n",
              "    <tr>\n",
              "      <th>2016-04-24</th>\n",
              "      <td>91.0</td>\n",
              "      <td>36499.0</td>\n",
              "      <td>0.500000</td>\n",
              "      <td>0.500000</td>\n",
              "      <td>110486293.2</td>\n",
              "      <td>1.385967</td>\n",
              "      <td>5165259.0</td>\n",
              "      <td>240501.2912</td>\n",
              "      <td>1387.537879</td>\n",
              "      <td>36825214</td>\n",
              "      <td>33.268655</td>\n",
              "      <td>458.55</td>\n",
              "      <td>8.360698</td>\n",
              "      <td>36724621</td>\n",
              "    </tr>\n",
              "    <tr>\n",
              "      <th>2016-04-24</th>\n",
              "      <td>54.0</td>\n",
              "      <td>36499.0</td>\n",
              "      <td>1.000000</td>\n",
              "      <td>1.000000</td>\n",
              "      <td>110486293.2</td>\n",
              "      <td>1.385967</td>\n",
              "      <td>5165259.0</td>\n",
              "      <td>240501.2912</td>\n",
              "      <td>1387.537879</td>\n",
              "      <td>36825214</td>\n",
              "      <td>33.268655</td>\n",
              "      <td>458.55</td>\n",
              "      <td>8.360698</td>\n",
              "      <td>36724621</td>\n",
              "    </tr>\n",
              "    <tr>\n",
              "      <th>2016-04-24</th>\n",
              "      <td>0.0</td>\n",
              "      <td>18633.0</td>\n",
              "      <td>0.300000</td>\n",
              "      <td>0.300000</td>\n",
              "      <td>110486293.2</td>\n",
              "      <td>1.385967</td>\n",
              "      <td>5165259.0</td>\n",
              "      <td>240501.2912</td>\n",
              "      <td>1387.537879</td>\n",
              "      <td>36825214</td>\n",
              "      <td>33.268655</td>\n",
              "      <td>458.55</td>\n",
              "      <td>8.360698</td>\n",
              "      <td>36724621</td>\n",
              "    </tr>\n",
              "    <tr>\n",
              "      <th>2016-04-24</th>\n",
              "      <td>0.0</td>\n",
              "      <td>18633.0</td>\n",
              "      <td>0.000000</td>\n",
              "      <td>0.000000</td>\n",
              "      <td>110486293.2</td>\n",
              "      <td>1.385967</td>\n",
              "      <td>5165259.0</td>\n",
              "      <td>240501.2912</td>\n",
              "      <td>1387.537879</td>\n",
              "      <td>36825214</td>\n",
              "      <td>33.268655</td>\n",
              "      <td>458.55</td>\n",
              "      <td>8.360698</td>\n",
              "      <td>36724621</td>\n",
              "    </tr>\n",
              "  </tbody>\n",
              "</table>\n",
              "</div>"
            ],
            "text/plain": [
              "            retweet_count  follower_count       pol       sub  \\\n",
              "date                                                            \n",
              "2016-04-24          111.0         36499.0  0.133333  0.133333   \n",
              "2016-04-24           91.0         36499.0  0.500000  0.500000   \n",
              "2016-04-24           54.0         36499.0  1.000000  1.000000   \n",
              "2016-04-24            0.0         18633.0  0.300000  0.300000   \n",
              "2016-04-24            0.0         18633.0  0.000000  0.000000   \n",
              "\n",
              "            est_transaction_volume_USD  cost_per_transaction_percent  \\\n",
              "date                                                                   \n",
              "2016-04-24                 110486293.2                      1.385967   \n",
              "2016-04-24                 110486293.2                      1.385967   \n",
              "2016-04-24                 110486293.2                      1.385967   \n",
              "2016-04-24                 110486293.2                      1.385967   \n",
              "2016-04-24                 110486293.2                      1.385967   \n",
              "\n",
              "            mempool_size_max  est_transaction_volume  \\\n",
              "date                                                   \n",
              "2016-04-24         5165259.0             240501.2912   \n",
              "2016-04-24         5165259.0             240501.2912   \n",
              "2016-04-24         5165259.0             240501.2912   \n",
              "2016-04-24         5165259.0             240501.2912   \n",
              "2016-04-24         5165259.0             240501.2912   \n",
              "\n",
              "            n_transactions_per_block  utxo_count_max  transaction_fees  \\\n",
              "date                                                                     \n",
              "2016-04-24               1387.537879        36825214         33.268655   \n",
              "2016-04-24               1387.537879        36825214         33.268655   \n",
              "2016-04-24               1387.537879        36825214         33.268655   \n",
              "2016-04-24               1387.537879        36825214         33.268655   \n",
              "2016-04-24               1387.537879        36825214         33.268655   \n",
              "\n",
              "             close  cost_per_transaction  utxo_count_min  \n",
              "date                                                      \n",
              "2016-04-24  458.55              8.360698        36724621  \n",
              "2016-04-24  458.55              8.360698        36724621  \n",
              "2016-04-24  458.55              8.360698        36724621  \n",
              "2016-04-24  458.55              8.360698        36724621  \n",
              "2016-04-24  458.55              8.360698        36724621  "
            ]
          },
          "metadata": {
            "tags": []
          },
          "execution_count": 94
        }
      ]
    },
    {
      "cell_type": "code",
      "metadata": {
        "id": "fbWUpYRjNqIQ",
        "colab_type": "code",
        "colab": {}
      },
      "source": [
        "data_train = data.sample(frac=0.8, random_state=0)\n",
        "data_test = data.drop(data_train.index)"
      ],
      "execution_count": 0,
      "outputs": []
    },
    {
      "cell_type": "code",
      "metadata": {
        "id": "KV_K-ERvNs8Q",
        "colab_type": "code",
        "colab": {}
      },
      "source": [
        "train_stat = data_train.describe()\n",
        "train_stat.pop('close')\n",
        "train_stat = train_stat.transpose()"
      ],
      "execution_count": 0,
      "outputs": []
    },
    {
      "cell_type": "code",
      "metadata": {
        "id": "Uz33R0KWNxOA",
        "colab_type": "code",
        "colab": {}
      },
      "source": [
        "y_train = data_train.pop(\"close\")\n",
        "y_test  = data_test.pop(\"close\")"
      ],
      "execution_count": 0,
      "outputs": []
    },
    {
      "cell_type": "markdown",
      "metadata": {
        "id": "z97vZZ8Z5M4q",
        "colab_type": "text"
      },
      "source": [
        "**Normalize the data**"
      ]
    },
    {
      "cell_type": "code",
      "metadata": {
        "id": "t6k7aYWTNzOZ",
        "colab_type": "code",
        "colab": {
          "base_uri": "https://localhost:8080/",
          "height": 119
        },
        "outputId": "1c45248d-bedb-43f9-fb8f-fc8369dd5bf7"
      },
      "source": [
        "sc = StandardScaler()\n",
        "normed_X_train = sc.fit_transform(data_train)\n",
        "normed_X_test = sc.transform(data_test)\n",
        "\n",
        "# normed_X_train = data_train\n",
        "# normed_X_test  = data_test"
      ],
      "execution_count": 98,
      "outputs": [
        {
          "output_type": "stream",
          "text": [
            "/usr/local/lib/python3.6/dist-packages/sklearn/preprocessing/data.py:645: DataConversionWarning: Data with input dtype int64, float64 were all converted to float64 by StandardScaler.\n",
            "  return self.partial_fit(X, y)\n",
            "/usr/local/lib/python3.6/dist-packages/sklearn/base.py:464: DataConversionWarning: Data with input dtype int64, float64 were all converted to float64 by StandardScaler.\n",
            "  return self.fit(X, **fit_params).transform(X)\n",
            "/usr/local/lib/python3.6/dist-packages/ipykernel_launcher.py:3: DataConversionWarning: Data with input dtype int64, float64 were all converted to float64 by StandardScaler.\n",
            "  This is separate from the ipykernel package so we can avoid doing imports until\n"
          ],
          "name": "stderr"
        }
      ]
    },
    {
      "cell_type": "code",
      "metadata": {
        "id": "0Buisw7ON4qT",
        "colab_type": "code",
        "outputId": "64a970ed-6740-4ad6-d108-abef22928463",
        "colab": {
          "base_uri": "https://localhost:8080/",
          "height": 170
        }
      },
      "source": [
        "reg = GradientBoostingRegressor(loss=LOSS, criterion = CRITERION, max_depth=MAX_DEPTH)\n",
        "  \n",
        "reg.fit(normed_X_train, y_train)"
      ],
      "execution_count": 99,
      "outputs": [
        {
          "output_type": "execute_result",
          "data": {
            "text/plain": [
              "GradientBoostingRegressor(alpha=0.9, criterion='friedman_mse', init=None,\n",
              "             learning_rate=0.1, loss='huber', max_depth=32,\n",
              "             max_features=None, max_leaf_nodes=None,\n",
              "             min_impurity_decrease=0.0, min_impurity_split=None,\n",
              "             min_samples_leaf=1, min_samples_split=2,\n",
              "             min_weight_fraction_leaf=0.0, n_estimators=100,\n",
              "             n_iter_no_change=None, presort='auto', random_state=None,\n",
              "             subsample=1.0, tol=0.0001, validation_fraction=0.1, verbose=0,\n",
              "             warm_start=False)"
            ]
          },
          "metadata": {
            "tags": []
          },
          "execution_count": 99
        }
      ]
    },
    {
      "cell_type": "code",
      "metadata": {
        "id": "zo_AUvXKN7M7",
        "colab_type": "code",
        "colab": {}
      },
      "source": [
        "y_pred = reg.predict(normed_X_test)\n",
        "y_pred = y_pred.round(decimals=2)\n",
        "score = reg.score(normed_X_test, y_test)"
      ],
      "execution_count": 0,
      "outputs": []
    },
    {
      "cell_type": "code",
      "metadata": {
        "id": "_cliignKN9uj",
        "colab_type": "code",
        "outputId": "e913f6ec-68a4-488c-b8e9-acc76041b5aa",
        "colab": {
          "base_uri": "https://localhost:8080/",
          "height": 34
        }
      },
      "source": [
        "score"
      ],
      "execution_count": 101,
      "outputs": [
        {
          "output_type": "execute_result",
          "data": {
            "text/plain": [
              "0.8179193822843805"
            ]
          },
          "metadata": {
            "tags": []
          },
          "execution_count": 101
        }
      ]
    },
    {
      "cell_type": "code",
      "metadata": {
        "id": "l1rAp8k3N-e8",
        "colab_type": "code",
        "colab": {}
      },
      "source": [
        "y_pred_df = pd.DataFrame(y_pred, columns=['close'], index=y_test.index)"
      ],
      "execution_count": 0,
      "outputs": []
    },
    {
      "cell_type": "code",
      "metadata": {
        "id": "fgzIB1BmoMqV",
        "colab_type": "code",
        "outputId": "b8c8b1a0-8ed4-4820-c45f-b6ec2db7d076",
        "colab": {
          "base_uri": "https://localhost:8080/",
          "height": 173
        }
      },
      "source": [
        "y_pred_df.head()"
      ],
      "execution_count": 103,
      "outputs": [
        {
          "output_type": "execute_result",
          "data": {
            "text/html": [
              "<div>\n",
              "<style scoped>\n",
              "    .dataframe tbody tr th:only-of-type {\n",
              "        vertical-align: middle;\n",
              "    }\n",
              "\n",
              "    .dataframe tbody tr th {\n",
              "        vertical-align: top;\n",
              "    }\n",
              "\n",
              "    .dataframe thead th {\n",
              "        text-align: right;\n",
              "    }\n",
              "</style>\n",
              "<table border=\"1\" class=\"dataframe\">\n",
              "  <thead>\n",
              "    <tr style=\"text-align: right;\">\n",
              "      <th></th>\n",
              "      <th>close</th>\n",
              "    </tr>\n",
              "    <tr>\n",
              "      <th>date</th>\n",
              "      <th></th>\n",
              "    </tr>\n",
              "  </thead>\n",
              "  <tbody>\n",
              "    <tr>\n",
              "      <th>2016-10-09</th>\n",
              "      <td>669.09</td>\n",
              "    </tr>\n",
              "    <tr>\n",
              "      <th>2016-12-03</th>\n",
              "      <td>780.00</td>\n",
              "    </tr>\n",
              "    <tr>\n",
              "      <th>2016-12-03</th>\n",
              "      <td>779.92</td>\n",
              "    </tr>\n",
              "  </tbody>\n",
              "</table>\n",
              "</div>"
            ],
            "text/plain": [
              "             close\n",
              "date              \n",
              "2016-10-09  669.09\n",
              "2016-12-03  780.00\n",
              "2016-12-03  779.92"
            ]
          },
          "metadata": {
            "tags": []
          },
          "execution_count": 103
        }
      ]
    },
    {
      "cell_type": "markdown",
      "metadata": {
        "id": "s5C2F4BCdQYF",
        "colab_type": "text"
      },
      "source": [
        "**Prepare Submission File**"
      ]
    },
    {
      "cell_type": "code",
      "metadata": {
        "id": "l_7doBobOA9T",
        "colab_type": "code",
        "colab": {
          "base_uri": "https://localhost:8080/",
          "height": 34
        },
        "outputId": "a3456554-62e9-4ab4-ca2e-01a95fca5dcf"
      },
      "source": [
        "columns.remove('close')\n",
        "data_sub = pd.read_csv(TEST_TIMESERIES, index_col=0)\n",
        "data_sub = data_sub[columns]\n",
        "\n",
        "data_tweets_sub = pd.read_csv(CLEAN_TWEET_DATA_TEST)\n",
        "data_tweets_sub.drop(data_tweets_sub.columns[0], axis=1, inplace=True)\n",
        "data_tweets_sub.drop(['account'], axis=1, inplace=True)\n",
        "data_tweets_sub.drop(['favorite_count'], axis=1, inplace=True)\n",
        "\n",
        "\n",
        "data_tweets_sub.set_index(['date'], inplace=True)\n",
        "\n",
        "data_close_sub = data_sub[columns]\n",
        "data_w_tweets_sub = data_tweets_sub.merge(data_close_sub, left_index=True, right_index=True)\n",
        "\n",
        "#Enable Tweet Data\n",
        "if ENABLE_TWEET:\n",
        "  data_sub = data_w_tweets_sub  \n",
        "\n",
        "data_sub = data_sub.dropna(how='any')\n",
        "\n",
        "normalized_sub = sc.transform(data_sub)\n",
        "# normalized_sub = data_sub\n",
        "\n",
        "y_sub = reg.predict(normalized_sub)\n",
        "y_sub = y_sub.round(decimals=2)\n",
        "y_sub_df = pd.DataFrame(y_sub, columns=['close'], index=data_sub.index)"
      ],
      "execution_count": 104,
      "outputs": [
        {
          "output_type": "stream",
          "text": [
            "/usr/local/lib/python3.6/dist-packages/ipykernel_launcher.py:22: DataConversionWarning: Data with input dtype int64, float64 were all converted to float64 by StandardScaler.\n"
          ],
          "name": "stderr"
        }
      ]
    },
    {
      "cell_type": "code",
      "metadata": {
        "id": "10UX4D_Uq37S",
        "colab_type": "code",
        "outputId": "24093e1f-4863-4beb-b9de-562995c889bd",
        "colab": {
          "base_uri": "https://localhost:8080/",
          "height": 235
        }
      },
      "source": [
        "y_sub_df.head()"
      ],
      "execution_count": 105,
      "outputs": [
        {
          "output_type": "execute_result",
          "data": {
            "text/html": [
              "<div>\n",
              "<style scoped>\n",
              "    .dataframe tbody tr th:only-of-type {\n",
              "        vertical-align: middle;\n",
              "    }\n",
              "\n",
              "    .dataframe tbody tr th {\n",
              "        vertical-align: top;\n",
              "    }\n",
              "\n",
              "    .dataframe thead th {\n",
              "        text-align: right;\n",
              "    }\n",
              "</style>\n",
              "<table border=\"1\" class=\"dataframe\">\n",
              "  <thead>\n",
              "    <tr style=\"text-align: right;\">\n",
              "      <th></th>\n",
              "      <th>close</th>\n",
              "    </tr>\n",
              "    <tr>\n",
              "      <th>date</th>\n",
              "      <th></th>\n",
              "    </tr>\n",
              "  </thead>\n",
              "  <tbody>\n",
              "    <tr>\n",
              "      <th>2018-12-01</th>\n",
              "      <td>3997.26</td>\n",
              "    </tr>\n",
              "    <tr>\n",
              "      <th>2018-12-01</th>\n",
              "      <td>3997.26</td>\n",
              "    </tr>\n",
              "    <tr>\n",
              "      <th>2018-12-01</th>\n",
              "      <td>3997.26</td>\n",
              "    </tr>\n",
              "    <tr>\n",
              "      <th>2018-12-01</th>\n",
              "      <td>3997.26</td>\n",
              "    </tr>\n",
              "    <tr>\n",
              "      <th>2018-12-01</th>\n",
              "      <td>3997.26</td>\n",
              "    </tr>\n",
              "  </tbody>\n",
              "</table>\n",
              "</div>"
            ],
            "text/plain": [
              "              close\n",
              "date               \n",
              "2018-12-01  3997.26\n",
              "2018-12-01  3997.26\n",
              "2018-12-01  3997.26\n",
              "2018-12-01  3997.26\n",
              "2018-12-01  3997.26"
            ]
          },
          "metadata": {
            "tags": []
          },
          "execution_count": 105
        }
      ]
    },
    {
      "cell_type": "code",
      "metadata": {
        "id": "My6ze6NfOGzt",
        "colab_type": "code",
        "colab": {}
      },
      "source": [
        "y_sub_df = y_sub_df.groupby('date').agg('mean')"
      ],
      "execution_count": 0,
      "outputs": []
    },
    {
      "cell_type": "markdown",
      "metadata": {
        "id": "dOGgI0svAM4E",
        "colab_type": "text"
      },
      "source": [
        "**Validate Output file**"
      ]
    },
    {
      "cell_type": "code",
      "metadata": {
        "id": "7TUNspo08tGt",
        "colab_type": "code",
        "outputId": "1a707d6c-21b8-4622-aef9-9f376963ff8c",
        "colab": {
          "base_uri": "https://localhost:8080/",
          "height": 235
        }
      },
      "source": [
        "data_val = pd.read_csv(ACTUAL_DATA_FILE, index_col=0)\n",
        "data_val.head()"
      ],
      "execution_count": 107,
      "outputs": [
        {
          "output_type": "execute_result",
          "data": {
            "text/html": [
              "<div>\n",
              "<style scoped>\n",
              "    .dataframe tbody tr th:only-of-type {\n",
              "        vertical-align: middle;\n",
              "    }\n",
              "\n",
              "    .dataframe tbody tr th {\n",
              "        vertical-align: top;\n",
              "    }\n",
              "\n",
              "    .dataframe thead th {\n",
              "        text-align: right;\n",
              "    }\n",
              "</style>\n",
              "<table border=\"1\" class=\"dataframe\">\n",
              "  <thead>\n",
              "    <tr style=\"text-align: right;\">\n",
              "      <th></th>\n",
              "      <th>close</th>\n",
              "    </tr>\n",
              "    <tr>\n",
              "      <th>date</th>\n",
              "      <th></th>\n",
              "    </tr>\n",
              "  </thead>\n",
              "  <tbody>\n",
              "    <tr>\n",
              "      <th>2018-12-01</th>\n",
              "      <td>4214.67</td>\n",
              "    </tr>\n",
              "    <tr>\n",
              "      <th>2018-12-02</th>\n",
              "      <td>4139.88</td>\n",
              "    </tr>\n",
              "    <tr>\n",
              "      <th>2018-12-03</th>\n",
              "      <td>3894.13</td>\n",
              "    </tr>\n",
              "    <tr>\n",
              "      <th>2018-12-04</th>\n",
              "      <td>3956.89</td>\n",
              "    </tr>\n",
              "    <tr>\n",
              "      <th>2018-12-05</th>\n",
              "      <td>3753.99</td>\n",
              "    </tr>\n",
              "  </tbody>\n",
              "</table>\n",
              "</div>"
            ],
            "text/plain": [
              "              close\n",
              "date               \n",
              "2018-12-01  4214.67\n",
              "2018-12-02  4139.88\n",
              "2018-12-03  3894.13\n",
              "2018-12-04  3956.89\n",
              "2018-12-05  3753.99"
            ]
          },
          "metadata": {
            "tags": []
          },
          "execution_count": 107
        }
      ]
    },
    {
      "cell_type": "code",
      "metadata": {
        "id": "2gjRGQZrOQrd",
        "colab_type": "code",
        "outputId": "566b58ff-2ca8-4fed-98cb-e9eaa83faa94",
        "colab": {
          "base_uri": "https://localhost:8080/",
          "height": 235
        }
      },
      "source": [
        "y_sub_df.columns[0]\n",
        "y_sub_df.head()"
      ],
      "execution_count": 108,
      "outputs": [
        {
          "output_type": "execute_result",
          "data": {
            "text/html": [
              "<div>\n",
              "<style scoped>\n",
              "    .dataframe tbody tr th:only-of-type {\n",
              "        vertical-align: middle;\n",
              "    }\n",
              "\n",
              "    .dataframe tbody tr th {\n",
              "        vertical-align: top;\n",
              "    }\n",
              "\n",
              "    .dataframe thead th {\n",
              "        text-align: right;\n",
              "    }\n",
              "</style>\n",
              "<table border=\"1\" class=\"dataframe\">\n",
              "  <thead>\n",
              "    <tr style=\"text-align: right;\">\n",
              "      <th></th>\n",
              "      <th>close</th>\n",
              "    </tr>\n",
              "    <tr>\n",
              "      <th>date</th>\n",
              "      <th></th>\n",
              "    </tr>\n",
              "  </thead>\n",
              "  <tbody>\n",
              "    <tr>\n",
              "      <th>2018-12-01</th>\n",
              "      <td>3997.26</td>\n",
              "    </tr>\n",
              "    <tr>\n",
              "      <th>2018-12-02</th>\n",
              "      <td>3982.33</td>\n",
              "    </tr>\n",
              "    <tr>\n",
              "      <th>2018-12-03</th>\n",
              "      <td>4212.72</td>\n",
              "    </tr>\n",
              "    <tr>\n",
              "      <th>2018-12-04</th>\n",
              "      <td>4014.75</td>\n",
              "    </tr>\n",
              "    <tr>\n",
              "      <th>2018-12-05</th>\n",
              "      <td>4082.48</td>\n",
              "    </tr>\n",
              "  </tbody>\n",
              "</table>\n",
              "</div>"
            ],
            "text/plain": [
              "              close\n",
              "date               \n",
              "2018-12-01  3997.26\n",
              "2018-12-02  3982.33\n",
              "2018-12-03  4212.72\n",
              "2018-12-04  4014.75\n",
              "2018-12-05  4082.48"
            ]
          },
          "metadata": {
            "tags": []
          },
          "execution_count": 108
        }
      ]
    },
    {
      "cell_type": "code",
      "metadata": {
        "id": "TnFZEVKc85_N",
        "colab_type": "code",
        "colab": {}
      },
      "source": [
        "val_data = data_val.merge(y_sub_df, left_index=True, right_index=True)"
      ],
      "execution_count": 0,
      "outputs": []
    },
    {
      "cell_type": "code",
      "metadata": {
        "id": "MIpyiFNK9H-3",
        "colab_type": "code",
        "outputId": "209f6e33-857c-481c-ab50-7aed9ebc0a40",
        "colab": {
          "base_uri": "https://localhost:8080/",
          "height": 235
        }
      },
      "source": [
        "val_data.head()"
      ],
      "execution_count": 110,
      "outputs": [
        {
          "output_type": "execute_result",
          "data": {
            "text/html": [
              "<div>\n",
              "<style scoped>\n",
              "    .dataframe tbody tr th:only-of-type {\n",
              "        vertical-align: middle;\n",
              "    }\n",
              "\n",
              "    .dataframe tbody tr th {\n",
              "        vertical-align: top;\n",
              "    }\n",
              "\n",
              "    .dataframe thead th {\n",
              "        text-align: right;\n",
              "    }\n",
              "</style>\n",
              "<table border=\"1\" class=\"dataframe\">\n",
              "  <thead>\n",
              "    <tr style=\"text-align: right;\">\n",
              "      <th></th>\n",
              "      <th>close_x</th>\n",
              "      <th>close_y</th>\n",
              "    </tr>\n",
              "    <tr>\n",
              "      <th>date</th>\n",
              "      <th></th>\n",
              "      <th></th>\n",
              "    </tr>\n",
              "  </thead>\n",
              "  <tbody>\n",
              "    <tr>\n",
              "      <th>2018-12-01</th>\n",
              "      <td>4214.67</td>\n",
              "      <td>3997.26</td>\n",
              "    </tr>\n",
              "    <tr>\n",
              "      <th>2018-12-02</th>\n",
              "      <td>4139.88</td>\n",
              "      <td>3982.33</td>\n",
              "    </tr>\n",
              "    <tr>\n",
              "      <th>2018-12-03</th>\n",
              "      <td>3894.13</td>\n",
              "      <td>4212.72</td>\n",
              "    </tr>\n",
              "    <tr>\n",
              "      <th>2018-12-04</th>\n",
              "      <td>3956.89</td>\n",
              "      <td>4014.75</td>\n",
              "    </tr>\n",
              "    <tr>\n",
              "      <th>2018-12-05</th>\n",
              "      <td>3753.99</td>\n",
              "      <td>4082.48</td>\n",
              "    </tr>\n",
              "  </tbody>\n",
              "</table>\n",
              "</div>"
            ],
            "text/plain": [
              "            close_x  close_y\n",
              "date                        \n",
              "2018-12-01  4214.67  3997.26\n",
              "2018-12-02  4139.88  3982.33\n",
              "2018-12-03  3894.13  4212.72\n",
              "2018-12-04  3956.89  4014.75\n",
              "2018-12-05  3753.99  4082.48"
            ]
          },
          "metadata": {
            "tags": []
          },
          "execution_count": 110
        }
      ]
    },
    {
      "cell_type": "code",
      "metadata": {
        "id": "1DLqxgNa9KUg",
        "colab_type": "code",
        "colab": {}
      },
      "source": [
        "val_data['diff'] = abs(val_data.close_x - val_data.close_y) / val_data.close_x"
      ],
      "execution_count": 0,
      "outputs": []
    },
    {
      "cell_type": "code",
      "metadata": {
        "id": "s_viUClb9lit",
        "colab_type": "code",
        "outputId": "2d838e21-dde2-41f3-bd86-ed5b676ff219",
        "colab": {
          "base_uri": "https://localhost:8080/",
          "height": 235
        }
      },
      "source": [
        "val_data.head()"
      ],
      "execution_count": 112,
      "outputs": [
        {
          "output_type": "execute_result",
          "data": {
            "text/html": [
              "<div>\n",
              "<style scoped>\n",
              "    .dataframe tbody tr th:only-of-type {\n",
              "        vertical-align: middle;\n",
              "    }\n",
              "\n",
              "    .dataframe tbody tr th {\n",
              "        vertical-align: top;\n",
              "    }\n",
              "\n",
              "    .dataframe thead th {\n",
              "        text-align: right;\n",
              "    }\n",
              "</style>\n",
              "<table border=\"1\" class=\"dataframe\">\n",
              "  <thead>\n",
              "    <tr style=\"text-align: right;\">\n",
              "      <th></th>\n",
              "      <th>close_x</th>\n",
              "      <th>close_y</th>\n",
              "      <th>diff</th>\n",
              "    </tr>\n",
              "    <tr>\n",
              "      <th>date</th>\n",
              "      <th></th>\n",
              "      <th></th>\n",
              "      <th></th>\n",
              "    </tr>\n",
              "  </thead>\n",
              "  <tbody>\n",
              "    <tr>\n",
              "      <th>2018-12-01</th>\n",
              "      <td>4214.67</td>\n",
              "      <td>3997.26</td>\n",
              "      <td>0.051584</td>\n",
              "    </tr>\n",
              "    <tr>\n",
              "      <th>2018-12-02</th>\n",
              "      <td>4139.88</td>\n",
              "      <td>3982.33</td>\n",
              "      <td>0.038057</td>\n",
              "    </tr>\n",
              "    <tr>\n",
              "      <th>2018-12-03</th>\n",
              "      <td>3894.13</td>\n",
              "      <td>4212.72</td>\n",
              "      <td>0.081813</td>\n",
              "    </tr>\n",
              "    <tr>\n",
              "      <th>2018-12-04</th>\n",
              "      <td>3956.89</td>\n",
              "      <td>4014.75</td>\n",
              "      <td>0.014623</td>\n",
              "    </tr>\n",
              "    <tr>\n",
              "      <th>2018-12-05</th>\n",
              "      <td>3753.99</td>\n",
              "      <td>4082.48</td>\n",
              "      <td>0.087504</td>\n",
              "    </tr>\n",
              "  </tbody>\n",
              "</table>\n",
              "</div>"
            ],
            "text/plain": [
              "            close_x  close_y      diff\n",
              "date                                  \n",
              "2018-12-01  4214.67  3997.26  0.051584\n",
              "2018-12-02  4139.88  3982.33  0.038057\n",
              "2018-12-03  3894.13  4212.72  0.081813\n",
              "2018-12-04  3956.89  4014.75  0.014623\n",
              "2018-12-05  3753.99  4082.48  0.087504"
            ]
          },
          "metadata": {
            "tags": []
          },
          "execution_count": 112
        }
      ]
    },
    {
      "cell_type": "code",
      "metadata": {
        "id": "TlyIprkzQDHU",
        "colab_type": "code",
        "outputId": "3c3e1926-be6d-4432-e61e-74d7ad30370e",
        "colab": {
          "base_uri": "https://localhost:8080/",
          "height": 34
        }
      },
      "source": [
        "stats = val_data.mean()\n",
        "score = 1-stats['diff']\n",
        "score"
      ],
      "execution_count": 113,
      "outputs": [
        {
          "output_type": "execute_result",
          "data": {
            "text/plain": [
              "0.9330112366227766"
            ]
          },
          "metadata": {
            "tags": []
          },
          "execution_count": 113
        }
      ]
    },
    {
      "cell_type": "markdown",
      "metadata": {
        "id": "wOPUQ2nEWc-I",
        "colab_type": "text"
      },
      "source": [
        "**Download Submission File**<br>\n",
        "Only if the score is at least 90%"
      ]
    },
    {
      "cell_type": "code",
      "metadata": {
        "id": "qO0ez3jFWgVz",
        "colab_type": "code",
        "colab": {}
      },
      "source": [
        "if score > 0.90:\n",
        "  y_sub_df.to_csv(SUB_FILE_NAME)"
      ],
      "execution_count": 0,
      "outputs": []
    }
  ]
}